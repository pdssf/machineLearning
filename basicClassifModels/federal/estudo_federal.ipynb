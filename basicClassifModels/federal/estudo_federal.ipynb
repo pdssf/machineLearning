{
 "cells": [
  {
   "cell_type": "code",
   "execution_count": 42,
   "id": "2a0cbade",
   "metadata": {},
   "outputs": [],
   "source": [
    "import pandas as pd\n",
    "\n",
    "base = pd.read_csv('./federal.csv')\n",
    "base.drop(columns=['concurso', 'data'], inplace=True)\n",
    "base.head()\n",
    "base = base[(base !=0).all(axis=1)]\n"
   ]
  },
  {
   "cell_type": "code",
   "execution_count": 43,
   "id": "72c1a750",
   "metadata": {},
   "outputs": [],
   "source": [
    "import numpy as np"
   ]
  },
  {
   "cell_type": "code",
   "execution_count": 44,
   "id": "c61f9e23",
   "metadata": {},
   "outputs": [],
   "source": [
    "numeros = base.to_numpy().flatten()\n",
    "#print(numeros)\n",
    "milhar = np.where(numeros < 9999, numeros, numeros % 10000)\n",
    "centena = np.where(numeros < 999, numeros, numeros % 1000)"
   ]
  },
  {
   "cell_type": "code",
   "execution_count": 45,
   "id": "32f8f146",
   "metadata": {},
   "outputs": [
    {
     "name": "stdout",
     "output_type": "stream",
     "text": [
      "Milhar: [ 478 3331 7748 ... 2583 3684 7277]\n",
      "Centena: [478 331 748 ... 583 684 277]\n"
     ]
    }
   ],
   "source": [
    "print('Milhar:', milhar)\n",
    "print('Centena:', centena)"
   ]
  },
  {
   "cell_type": "code",
   "execution_count": 50,
   "id": "809dcafe",
   "metadata": {},
   "outputs": [
    {
     "name": "stdout",
     "output_type": "stream",
     "text": [
      "Milhar mais frequente: 1446  apareceu  9\n",
      "Centena mais frequente: 634  apareceu  27\n"
     ]
    }
   ],
   "source": [
    "most_frequent_milhar = np.bincount(milhar)\n",
    "most_frequent_centena = np.bincount(centena)\n",
    "\n",
    "print('Milhar mais frequente:', most_frequent_milhar.argmax(), \" apareceu \", most_frequent_milhar.max())\n",
    "print('Centena mais frequente:', most_frequent_centena.argmax(), \" apareceu \", most_frequent_centena.max())"
   ]
  },
  {
   "cell_type": "code",
   "execution_count": 49,
   "id": "6af9ed75",
   "metadata": {},
   "outputs": [
    {
     "name": "stdout",
     "output_type": "stream",
     "text": [
      "Milhar menos frequente: 20  apareceu  0\n",
      "Centena menos frequente: 228  apareceu  4\n"
     ]
    }
   ],
   "source": [
    "print('Milhar menos frequente:', most_frequent_milhar.argmin(), \" apareceu \", most_frequent_milhar.min())\n",
    "print('Centena menos frequente:', most_frequent_centena.argmin(), \" apareceu \", most_frequent_centena.min())"
   ]
  }
 ],
 "metadata": {
  "kernelspec": {
   "display_name": "Python 3",
   "language": "python",
   "name": "python3"
  },
  "language_info": {
   "codemirror_mode": {
    "name": "ipython",
    "version": 3
   },
   "file_extension": ".py",
   "mimetype": "text/x-python",
   "name": "python",
   "nbconvert_exporter": "python",
   "pygments_lexer": "ipython3",
   "version": "3.11.6"
  }
 },
 "nbformat": 4,
 "nbformat_minor": 5
}
