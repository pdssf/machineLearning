{
 "cells": [
  {
   "cell_type": "code",
   "execution_count": 4,
   "id": "bb4ebdb9",
   "metadata": {},
   "outputs": [
    {
     "data": {
      "text/html": [
       "<div>\n",
       "<style scoped>\n",
       "    .dataframe tbody tr th:only-of-type {\n",
       "        vertical-align: middle;\n",
       "    }\n",
       "\n",
       "    .dataframe tbody tr th {\n",
       "        vertical-align: top;\n",
       "    }\n",
       "\n",
       "    .dataframe thead th {\n",
       "        text-align: right;\n",
       "    }\n",
       "</style>\n",
       "<table border=\"1\" class=\"dataframe\">\n",
       "  <thead>\n",
       "    <tr style=\"text-align: right;\">\n",
       "      <th></th>\n",
       "      <th>receita_cliente</th>\n",
       "      <th>anuidade_emprestimo</th>\n",
       "      <th>anos_casa_propria</th>\n",
       "      <th>telefone_trab</th>\n",
       "      <th>avaliacao_cidade</th>\n",
       "      <th>score_1</th>\n",
       "      <th>score_2</th>\n",
       "      <th>score_3</th>\n",
       "      <th>score_social</th>\n",
       "      <th>troca_telefone</th>\n",
       "      <th>inadimplente</th>\n",
       "    </tr>\n",
       "  </thead>\n",
       "  <tbody>\n",
       "    <tr>\n",
       "      <th>0</th>\n",
       "      <td>12600.0</td>\n",
       "      <td>3569.400000</td>\n",
       "      <td>12.157324</td>\n",
       "      <td>1</td>\n",
       "      <td>2.0</td>\n",
       "      <td>0.057153</td>\n",
       "      <td>0.527227</td>\n",
       "      <td>0.513171</td>\n",
       "      <td>0.117428</td>\n",
       "      <td>2545.0</td>\n",
       "      <td>0</td>\n",
       "    </tr>\n",
       "    <tr>\n",
       "      <th>1</th>\n",
       "      <td>9000.0</td>\n",
       "      <td>2722.188351</td>\n",
       "      <td>7.000000</td>\n",
       "      <td>0</td>\n",
       "      <td>2.0</td>\n",
       "      <td>0.657661</td>\n",
       "      <td>0.285898</td>\n",
       "      <td>0.614414</td>\n",
       "      <td>0.222700</td>\n",
       "      <td>495.0</td>\n",
       "      <td>0</td>\n",
       "    </tr>\n",
       "    <tr>\n",
       "      <th>2</th>\n",
       "      <td>15750.0</td>\n",
       "      <td>4477.500000</td>\n",
       "      <td>12.000000</td>\n",
       "      <td>0</td>\n",
       "      <td>2.0</td>\n",
       "      <td>0.501213</td>\n",
       "      <td>0.695423</td>\n",
       "      <td>0.513171</td>\n",
       "      <td>0.117428</td>\n",
       "      <td>1212.0</td>\n",
       "      <td>0</td>\n",
       "    </tr>\n",
       "    <tr>\n",
       "      <th>3</th>\n",
       "      <td>9000.0</td>\n",
       "      <td>1309.050000</td>\n",
       "      <td>12.157324</td>\n",
       "      <td>0</td>\n",
       "      <td>3.0</td>\n",
       "      <td>0.501213</td>\n",
       "      <td>0.155973</td>\n",
       "      <td>0.513171</td>\n",
       "      <td>0.117428</td>\n",
       "      <td>515.0</td>\n",
       "      <td>0</td>\n",
       "    </tr>\n",
       "    <tr>\n",
       "      <th>4</th>\n",
       "      <td>7650.0</td>\n",
       "      <td>1125.000000</td>\n",
       "      <td>12.157324</td>\n",
       "      <td>0</td>\n",
       "      <td>2.0</td>\n",
       "      <td>0.294328</td>\n",
       "      <td>0.152076</td>\n",
       "      <td>0.513171</td>\n",
       "      <td>0.117428</td>\n",
       "      <td>162.0</td>\n",
       "      <td>0</td>\n",
       "    </tr>\n",
       "  </tbody>\n",
       "</table>\n",
       "</div>"
      ],
      "text/plain": [
       "   receita_cliente  anuidade_emprestimo  anos_casa_propria  telefone_trab  \\\n",
       "0          12600.0          3569.400000          12.157324              1   \n",
       "1           9000.0          2722.188351           7.000000              0   \n",
       "2          15750.0          4477.500000          12.000000              0   \n",
       "3           9000.0          1309.050000          12.157324              0   \n",
       "4           7650.0          1125.000000          12.157324              0   \n",
       "\n",
       "   avaliacao_cidade   score_1   score_2   score_3  score_social  \\\n",
       "0               2.0  0.057153  0.527227  0.513171      0.117428   \n",
       "1               2.0  0.657661  0.285898  0.614414      0.222700   \n",
       "2               2.0  0.501213  0.695423  0.513171      0.117428   \n",
       "3               3.0  0.501213  0.155973  0.513171      0.117428   \n",
       "4               2.0  0.294328  0.152076  0.513171      0.117428   \n",
       "\n",
       "   troca_telefone  inadimplente  \n",
       "0          2545.0             0  \n",
       "1           495.0             0  \n",
       "2          1212.0             0  \n",
       "3           515.0             0  \n",
       "4           162.0             0  "
      ]
     },
     "execution_count": 4,
     "metadata": {},
     "output_type": "execute_result"
    }
   ],
   "source": [
    "import pandas as pd\n",
    "\n",
    "base = pd.read_csv('./emp_automovel.csv')\n",
    "base.head()"
   ]
  },
  {
   "cell_type": "code",
   "execution_count": 5,
   "id": "1a5a2f59",
   "metadata": {},
   "outputs": [],
   "source": [
    "x = base.drop(\"inadimplente\", axis=1)\n",
    "y = base.inadimplente"
   ]
  },
  {
   "cell_type": "code",
   "execution_count": 6,
   "id": "9b166f72",
   "metadata": {},
   "outputs": [],
   "source": [
    "from sklearn.model_selection import train_test_split\n",
    "\n",
    "x, x_test, y, y_test = train_test_split(x, y, stratify=y, test_size=0.15, random_state=5)\n",
    "x_train, x_val, y_train, y_val = train_test_split(x, y, stratify=y)\n"
   ]
  },
  {
   "cell_type": "code",
   "execution_count": 8,
   "id": "7d427f22",
   "metadata": {},
   "outputs": [
    {
     "name": "stdout",
     "output_type": "stream",
     "text": [
      "score of the tree: 0.9203542392566783\n",
      "score of the tree_val: 0.9071509450396307\n"
     ]
    }
   ],
   "source": [
    "from sklearn.tree import DecisionTreeClassifier\n",
    "\n",
    "new_tree = DecisionTreeClassifier(max_depth=10)\n",
    "\n",
    "new_tree.fit(x_train, y_train)\n",
    "\n",
    "print(f\"score of the tree: {new_tree.score(x_train, y_train)}\")\n",
    "print(f\"score of the tree_val: {new_tree.score(x_val, y_val)}\")"
   ]
  },
  {
   "cell_type": "code",
   "execution_count": 9,
   "id": "1efbd6e9",
   "metadata": {},
   "outputs": [
    {
     "data": {
      "text/plain": [
       "<sklearn.metrics._plot.confusion_matrix.ConfusionMatrixDisplay at 0x1273b5850>"
      ]
     },
     "execution_count": 9,
     "metadata": {},
     "output_type": "execute_result"
    },
    {
     "data": {
      "image/png": "[encoded data removed]",
      "text/plain": [
       "<Figure size 640x480 with 2 Axes>"
      ]
     },
     "metadata": {},
     "output_type": "display_data"
    }
   ],
   "source": [
    "from sklearn.metrics import confusion_matrix, ConfusionMatrixDisplay\n",
    "\n",
    "y_prev = new_tree.predict(x_val)\n",
    "\n",
    "matrix = confusion_matrix(y_val, y_prev)\n",
    "matrix_vis = ConfusionMatrixDisplay(matrix)\n",
    "\n",
    "matrix_vis.plot()"
   ]
  },
  {
   "cell_type": "code",
   "execution_count": 10,
   "id": "6065a830",
   "metadata": {},
   "outputs": [
    {
     "name": "stdout",
     "output_type": "stream",
     "text": [
      "score of the rfc: 0.916035188572424\n"
     ]
    }
   ],
   "source": [
    "from sklearn.ensemble import RandomForestClassifier\n",
    "\n",
    "rfc = RandomForestClassifier()\n",
    "\n",
    "rfc.fit(x_train, y_train)\n",
    "rfc_score = rfc.score(x_val, y_val)\n",
    "rfc_y_prev = rfc.predict(x_val)\n",
    "print(f\"score of the rfc: {rfc_score}\")"
   ]
  },
  {
   "cell_type": "code",
   "execution_count": 11,
   "id": "56d4d2d6",
   "metadata": {},
   "outputs": [
    {
     "data": {
      "image/png": "[encoded data removed]",
      "text/plain": [
       "<Figure size 640x480 with 2 Axes>"
      ]
     },
     "metadata": {},
     "output_type": "display_data"
    }
   ],
   "source": [
    "\n",
    "rfc_vis = ConfusionMatrixDisplay(confusion_matrix(y_val, rfc_y_prev), display_labels=[\"pagador\", \"Mau Pagador\"])\n",
    "rfc_vis.plot();"
   ]
  },
  {
   "cell_type": "code",
   "execution_count": null,
   "id": "450ee80e",
   "metadata": {},
   "outputs": [
    {
     "name": "stdout",
     "output_type": "stream",
     "text": [
      "accuracy for rfc is 0.916035188572424\n"
     ]
    }
   ],
   "source": [
    "from sklearn.metrics import accuracy_score, recall_score, precision_score, f1_score\n",
    "\n",
    "print(f'accuracy for rfc is {accuracy_score(y_val, rfc_y_prev)}')\n",
    "print(f'precision for rfc is {precision_score(y_val, rfc_y_prev)}')\n",
    "print(f'recall for rfc is {recall_score(y_val, rfc_y_prev)}')\n",
    "print(f'f1-score for rfc is {f1_score(y_val, rfc_y_prev)}')"
   ]
  }
 ],
 "metadata": {
  "kernelspec": {
   "display_name": "Python 3",
   "language": "python",
   "name": "python3"
  },
  "language_info": {
   "codemirror_mode": {
    "name": "ipython",
    "version": 3
   },
   "file_extension": ".py",
   "mimetype": "text/x-python",
   "name": "python",
   "nbconvert_exporter": "python",
   "pygments_lexer": "ipython3",
   "version": "3.11.6"
  }
 },
 "nbformat": 4,
 "nbformat_minor": 5
}
